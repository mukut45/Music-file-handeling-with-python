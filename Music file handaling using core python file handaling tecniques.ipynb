{
 "cells": [
  {
   "cell_type": "code",
   "execution_count": null,
   "id": "b46d5969-3b07-4c5c-9932-f2e6c4b1331c",
   "metadata": {},
   "outputs": [],
   "source": [
    "import os # python inbuilt file handeling function\n",
    "import shutil # Python inbuilt function for file handeling\n",
    "\n",
    "# Your folders:\n",
    "source_directory = \"/path/to/your/main/music/folder\"\n",
    "destination_directory = \"/path/to/your/target/folder\"\n",
    "\n",
    "# Make sure the destination folder exists\n",
    "os.makedirs(destination_directory, exist_ok=True)\n",
    "\n",
    "# Keep track of file names we've already moved\n",
    "moved_files = set() # appanding the moved files name\n",
    "\n",
    "# Only look for .m4a files\n",
    "for root, dirs, files in os.walk(source_directory):\n",
    "    for file in files:\n",
    "        if file.lower().endswith('.m4a'): # only looking for m4a file, and converting file name to lower case\n",
    "            if file not in moved_files:\n",
    "                source_path = os.path.join(root, file)\n",
    "                dest_path = os.path.join(destination_directory, file)\n",
    "\n",
    "                shutil.move(source_path, dest_path)\n",
    "                moved_files.add(file)\n",
    "                print(f\"Moved: {source_path} → {dest_path}\")\n",
    "            else:\n",
    "                print(f\"Duplicate skipped: {file}\") # printing the skipped duplicate files\n"
   ]
  },
  {
   "cell_type": "markdown",
   "id": "b99fa61c",
   "metadata": {},
   "source": [
    "Below code is to handle the multiple extention files like, .mp3, .mp4, .m4a etc"
   ]
  },
  {
   "cell_type": "code",
   "execution_count": null,
   "id": "00ae9b82",
   "metadata": {},
   "outputs": [],
   "source": [
    "import os\n",
    "import shutil\n",
    "\n",
    "# Your folders:\n",
    "source_directory = \"/path/to/your/main/music/folder\"\n",
    "destination_directory = \"/path/to/your/target/folder\"\n",
    "\n",
    "# Make sure the destination folder exists\n",
    "os.makedirs(destination_directory, exist_ok=True)\n",
    "\n",
    "# Define allowed extensions\n",
    "allowed_extensions = {'.m4a', '.mp3', '.wav', '.aac', '.flac', '.ogg'}  # Add or remove as needed\n",
    "\n",
    "# Keep track of file names we've already moved\n",
    "moved_files = set()\n",
    "\n",
    "# Walk through all subdirectories and files\n",
    "for root, dirs, files in os.walk(source_directory):\n",
    "    for file in files:\n",
    "        file_lower = file.lower()\n",
    "        file_ext = os.path.splitext(file_lower)[1]\n",
    "\n",
    "        if file_ext in allowed_extensions:\n",
    "            if file_lower not in moved_files:\n",
    "                source_path = os.path.join(root, file)\n",
    "                dest_path = os.path.join(destination_directory, file)\n",
    "\n",
    "                shutil.move(source_path, dest_path)\n",
    "                moved_files.add(file_lower)\n",
    "                print(f\"Moved: {source_path} → {dest_path}\")\n",
    "            else:\n",
    "                print(f\"Duplicate skipped: {file}\")\n"
   ]
  }
 ],
 "metadata": {
  "kernelspec": {
   "display_name": "Python 3 (ipykernel)",
   "language": "python",
   "name": "python3"
  },
  "language_info": {
   "codemirror_mode": {
    "name": "ipython",
    "version": 3
   },
   "file_extension": ".py",
   "mimetype": "text/x-python",
   "name": "python",
   "nbconvert_exporter": "python",
   "pygments_lexer": "ipython3",
   "version": "3.9.21"
  }
 },
 "nbformat": 4,
 "nbformat_minor": 5
}
