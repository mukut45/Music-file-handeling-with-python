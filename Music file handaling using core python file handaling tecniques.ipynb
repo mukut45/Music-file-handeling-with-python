{
 "cells": [
  {
   "cell_type": "code",
   "execution_count": null,
   "id": "b46d5969-3b07-4c5c-9932-f2e6c4b1331c",
   "metadata": {},
   "outputs": [],
   "source": [
    "import os # python inbuilt file handeling function\n",
    "import shutil\n",
    "\n",
    "# Your folders:\n",
    "source_directory = \"/path/to/your/main/music/folder\"\n",
    "destination_directory = \"/path/to/your/target/folder\"\n",
    "\n",
    "# Make sure the destination folder exists\n",
    "os.makedirs(destination_directory, exist_ok=True)\n",
    "\n",
    "# Keep track of file names we've already moved\n",
    "moved_files = set()\n",
    "\n",
    "# Only look for .m4a files\n",
    "for root, dirs, files in os.walk(source_directory):\n",
    "    for file in files:\n",
    "        if file.lower().endswith('.m4a'): # only looking for m4a file, and converting file name to lower case\n",
    "            if file not in moved_files:\n",
    "                source_path = os.path.join(root, file)\n",
    "                dest_path = os.path.join(destination_directory, file)\n",
    "\n",
    "                shutil.move(source_path, dest_path)\n",
    "                moved_files.add(file)\n",
    "                print(f\"Moved: {source_path} → {dest_path}\")\n",
    "            else:\n",
    "                print(f\"Duplicate skipped: {file}\")\n"
   ]
  }
 ],
 "metadata": {
  "kernelspec": {
   "display_name": "Python 3 (ipykernel)",
   "language": "python",
   "name": "python3"
  },
  "language_info": {
   "codemirror_mode": {
    "name": "ipython",
    "version": 3
   },
   "file_extension": ".py",
   "mimetype": "text/x-python",
   "name": "python",
   "nbconvert_exporter": "python",
   "pygments_lexer": "ipython3",
   "version": "3.9.21"
  }
 },
 "nbformat": 4,
 "nbformat_minor": 5
}
